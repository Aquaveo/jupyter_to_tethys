{
 "cells": [
  {
   "cell_type": "code",
   "execution_count": 60,
   "metadata": {},
   "outputs": [],
   "source": [
    "from __future__ import print_function"
   ]
  },
  {
   "cell_type": "code",
   "execution_count": 61,
   "metadata": {},
   "outputs": [],
   "source": [
    "import ipywidgets as widgets\n",
    "from traitlets import Unicode, validate\n",
    "\n",
    "\n",
    "class HelloWidget(widgets.DOMWidget):\n",
    "    _view_name = Unicode('HelloView').tag(sync=True)\n",
    "    _view_module = Unicode('hello').tag(sync=True)\n",
    "    _view_module_version = Unicode('0.1.0').tag(sync=True)\n",
    "    value = Unicode('Hello World').tag(sync=True)"
   ]
  },
  {
   "cell_type": "code",
   "execution_count": 62,
   "metadata": {},
   "outputs": [
    {
     "data": {
      "application/javascript": [
       "require.undef('hello');\n",
       "\n",
       "define('hello', [\"@jupyter-widgets/base\"], function(widgets) {\n",
       "\n",
       "    var HelloView = widgets.DOMWidgetView.extend({\n",
       "\n",
       "        render: function() {\n",
       "            console.log(\"render called!!!!\")\n",
       "            this.txtbox = document.createElement('input');            \n",
       "            this.txtbox.onchange = this.ui_value_changed.bind(this);\n",
       "            this.el.appendChild(this.txtbox);     \n",
       "            this.model_value_changed();\n",
       "            this.model.on('change:value', this.model_value_changed, this);\n",
       "        },\n",
       "\n",
       "        model_value_changed: function() {            \n",
       "            console.log(\"model_value_changed called!!!!\")\n",
       "            this.txtbox.value = this.model.get('value');            \n",
       "        },        \n",
       "        \n",
       "        ui_value_changed: function(e, ui){                \n",
       "            console.log(\"ui_value_changed called!!!!\")    \n",
       "            this.model.set('value', this.txtbox.value);\n",
       "            this.touch();\n",
       "        },\n",
       "    });\n",
       "\n",
       "    return {\n",
       "        HelloView: HelloView\n",
       "    };\n",
       "});\n"
      ],
      "text/plain": [
       "<IPython.core.display.Javascript object>"
      ]
     },
     "metadata": {},
     "output_type": "display_data"
    }
   ],
   "source": [
    "%%javascript\n",
    "require.undef('hello');\n",
    "\n",
    "define('hello', [\"@jupyter-widgets/base\"], function(widgets) {\n",
    "\n",
    "    var HelloView = widgets.DOMWidgetView.extend({\n",
    "\n",
    "        render: function() {\n",
    "            console.log(\"render called!!!!\")\n",
    "            this.txtbox = document.createElement('input');            \n",
    "            this.txtbox.onchange = this.ui_value_changed.bind(this);\n",
    "            this.el.appendChild(this.txtbox);     \n",
    "            this.model_value_changed();\n",
    "            this.model.on('change:value', this.model_value_changed, this);\n",
    "        },\n",
    "\n",
    "        model_value_changed: function() {            \n",
    "            console.log(\"model_value_changed called!!!!\")\n",
    "            this.txtbox.value = this.model.get('value');            \n",
    "        },        \n",
    "        \n",
    "        ui_value_changed: function(e, ui){                \n",
    "            console.log(\"ui_value_changed called!!!!\")    \n",
    "            this.model.set('value', this.txtbox.value);\n",
    "            this.touch();\n",
    "        },\n",
    "    });\n",
    "\n",
    "    return {\n",
    "        HelloView: HelloView\n",
    "    };\n",
    "});"
   ]
  },
  {
   "cell_type": "code",
   "execution_count": 63,
   "metadata": {},
   "outputs": [],
   "source": [
    "# initailize Widget obj in Python, WidgetModel in JS, get synced\n",
    "w = HelloWidget()"
   ]
  },
  {
   "cell_type": "code",
   "execution_count": 64,
   "metadata": {},
   "outputs": [
    {
     "data": {
      "application/vnd.jupyter.widget-view+json": {
       "model_id": "ef92e331a2244aabb85a62fd02b047d4",
       "version_major": 2,
       "version_minor": 0
      },
      "text/plain": [
       "HelloWidget()"
      ]
     },
     "metadata": {},
     "output_type": "display_data"
    }
   ],
   "source": [
    "# initialize WidgetView in JS, get synced to WidgetModel in JS\n",
    "w"
   ]
  },
  {
   "cell_type": "code",
   "execution_count": 65,
   "metadata": {},
   "outputs": [
    {
     "data": {
      "text/plain": [
       "'Hello World'"
      ]
     },
     "execution_count": 65,
     "metadata": {},
     "output_type": "execute_result"
    }
   ],
   "source": [
    "# Check Python Widget property value\n",
    "w.value"
   ]
  },
  {
   "cell_type": "code",
   "execution_count": null,
   "metadata": {},
   "outputs": [],
   "source": [
    "# Change Textbox UI value \"Hello World\" to other text\n",
    "# Check Python Widget property value\n",
    "w.value"
   ]
  },
  {
   "cell_type": "code",
   "execution_count": null,
   "metadata": {},
   "outputs": [],
   "source": [
    "# Change Python Widget property value\n",
    "w.value=\"ABCDE\"\n",
    "# Check Textbox UI value"
   ]
  },
  {
   "cell_type": "code",
   "execution_count": null,
   "metadata": {},
   "outputs": [],
   "source": []
  },
  {
   "cell_type": "code",
   "execution_count": null,
   "metadata": {},
   "outputs": [],
   "source": []
  }
 ],
 "metadata": {
  "kernelspec": {
   "display_name": "Python 3",
   "language": "python",
   "name": "python3"
  },
  "language_info": {
   "codemirror_mode": {
    "name": "ipython",
    "version": 3
   },
   "file_extension": ".py",
   "mimetype": "text/x-python",
   "name": "python",
   "nbconvert_exporter": "python",
   "pygments_lexer": "ipython3",
   "version": "3.6.6"
  }
 },
 "nbformat": 4,
 "nbformat_minor": 2
}
