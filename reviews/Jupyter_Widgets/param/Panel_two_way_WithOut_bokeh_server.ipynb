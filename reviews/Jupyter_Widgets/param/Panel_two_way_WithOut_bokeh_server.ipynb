{
 "cells": [
  {
   "cell_type": "markdown",
   "metadata": {},
   "source": [
    "#http://pyviz.org/tutorial/12_Parameters_and_Widgets.html\n",
    "https://github.com/pyviz/panel/blob/master/panel/tests/test_param.py#L92\n",
    "\n",
    "UI--> Widget Obj; UI ---> Param Obj\n",
    "Param Obj ---> UI, Param Obj X--> Widget Obj\n",
    "Widget Obj X--> Param Obj, Widget Obj X--> UI\n"
   ]
  },
  {
   "cell_type": "code",
   "execution_count": null,
   "metadata": {},
   "outputs": [],
   "source": [
    "from bokeh.io import show\n",
    "import param, panel as pp, numpy as np, holoviews as hv\n",
    "from bokeh.document import Document\n",
    "from panel.pane import Pane\n",
    "hv.extension('bokeh')\n"
   ]
  },
  {
   "cell_type": "code",
   "execution_count": null,
   "metadata": {},
   "outputs": [],
   "source": [
    "class BokehSliderParam(param.Parameterized):    \n",
    "    \n",
    "    # define param parameters    \n",
    "    value = param.Number(default=1.0, bounds=(0, 100))   "
   ]
  },
  {
   "cell_type": "code",
   "execution_count": null,
   "metadata": {},
   "outputs": [],
   "source": [
    "myslider_param = BokehSliderParam()\n",
    "\n",
    "#pp.Row(myslider_param)\n",
    "test_pane = Pane(myslider_param)\n",
    "test_pane"
   ]
  },
  {
   "cell_type": "code",
   "execution_count": null,
   "metadata": {},
   "outputs": [],
   "source": [
    "# Change UI, Check Widget Obj and Param Obj    UI--> Widget Obj; UI ---> Param Obj\n",
    "model = test_pane._get_model(Document(), comm=None)\n",
    "print(type(model.children[0].children[0].children[1]))\n",
    "slider = model.children[0].children[0].children[1]\n",
    "print(id(slider))\n",
    "print(slider.value)\n",
    "# Change UI, check param Obj\n",
    "print(myslider_param.value)"
   ]
  },
  {
   "cell_type": "code",
   "execution_count": null,
   "metadata": {},
   "outputs": [],
   "source": [
    "print(id(slider))\n",
    "# Change check param Obj, check UI and Widget Obj; Param Obj ---> UI, Param Obj X--> Widget Obj\n",
    "myslider_param.value = 22"
   ]
  },
  {
   "cell_type": "code",
   "execution_count": null,
   "metadata": {},
   "outputs": [],
   "source": [
    "print(id(slider))\n",
    "print(slider.value)\n"
   ]
  },
  {
   "cell_type": "code",
   "execution_count": null,
   "metadata": {},
   "outputs": [],
   "source": [
    "# Change Widget Obj; Check UI and ParamObj; Widget Obj X--> Param Obj, Widget Obj X--> Widget UI\n",
    "print(id(slider))\n",
    "slider.value=9"
   ]
  },
  {
   "cell_type": "code",
   "execution_count": null,
   "metadata": {},
   "outputs": [],
   "source": [
    "print(myslider_param.value)"
   ]
  },
  {
   "cell_type": "code",
   "execution_count": null,
   "metadata": {},
   "outputs": [],
   "source": []
  }
 ],
 "metadata": {
  "kernelspec": {
   "display_name": "Python 3",
   "language": "python",
   "name": "python3"
  },
  "language_info": {
   "codemirror_mode": {
    "name": "ipython",
    "version": 3
   },
   "file_extension": ".py",
   "mimetype": "text/x-python",
   "name": "python",
   "nbconvert_exporter": "python",
   "pygments_lexer": "ipython3",
   "version": "3.6.6"
  }
 },
 "nbformat": 4,
 "nbformat_minor": 2
}
