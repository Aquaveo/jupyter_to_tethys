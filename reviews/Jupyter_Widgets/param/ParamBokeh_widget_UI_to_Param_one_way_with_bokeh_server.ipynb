{
 "cells": [
  {
   "cell_type": "markdown",
   "metadata": {},
   "source": [
    "This NB is to demo the Bokeh Widget 2-way Synchronization With a Bokeh Server\n",
    "Widget Python Obj <---> Widget UI"
   ]
  },
  {
   "cell_type": "markdown",
   "metadata": {},
   "source": [
    "First Demo a Not-working example on registering python callback to listen to UI changes "
   ]
  },
  {
   "cell_type": "code",
   "execution_count": null,
   "metadata": {},
   "outputs": [],
   "source": [
    "from bokeh.io import output_file, show, output_notebook, push_notebook\n",
    "import param\n",
    "import parambokeh\n",
    "import numpy as np\n",
    "\n",
    "output_notebook()\n"
   ]
  },
  {
   "cell_type": "code",
   "execution_count": null,
   "metadata": {},
   "outputs": [],
   "source": [
    "class BokehSliderParam(param.Parameterized):    \n",
    "    \n",
    "    # define param parameters    \n",
    "    slider_value = param.Number(default=1.0, bounds=(0, 100))   "
   ]
  },
  {
   "cell_type": "markdown",
   "metadata": {},
   "source": [
    "Now embed a bokeh server and start a bokeh app"
   ]
  },
  {
   "cell_type": "code",
   "execution_count": null,
   "metadata": {},
   "outputs": [],
   "source": []
  },
  {
   "cell_type": "code",
   "execution_count": null,
   "metadata": {},
   "outputs": [],
   "source": [
    "from bokeh.layouts import widgetbox\n",
    "import time\n",
    "\n",
    "\n",
    "# This is a bokeh app! Should run with a bokeh server!!\n",
    "# This bokeh can run outside of jupyter as well!\n",
    "# bokeh widget on_change event (bokeh widget python callback) only works with a bokeh server\n",
    "def modify_doc(doc):    \n",
    "    \n",
    "    myslider_param = BokehSliderParam()\n",
    "    #parambokeh.Widgets(myslider_param, doc=doc, mode=\"server\", callback=UI_changed)   \n",
    "    widget_obj=parambokeh.Widgets.instance()\n",
    "    \n",
    "    # Python callback to response to UI changes\n",
    "    def UI_changed(self, **kwargs):        \n",
    "        print (\"UI change triggered Param Obj change? {0}\".format(self.slider_value))\n",
    "        print (\"UI change triggered Widget Python Obj change? {0}\".format(widget_obj._widgets[\"slider_value\"].value)) \n",
    "    \n",
    "    \n",
    "    widget_obj(myslider_param, doc=doc, mode=\"server\", callback=UI_changed)   \n",
    "    \n",
    "    # A func to demo changing python Obj\n",
    "    def update_python_obj():                   \n",
    "        myslider_param.slider_value = np.random.randint(0,100)\n",
    "        print(\"Updating Param Obj to {}\".format(myslider_param.slider_value))\n",
    "        print(\"UI changed?\")\n",
    "        print(\"Widget Python Obj changed? {}\".format(widget_obj._widgets[\"slider_value\"].value))\n",
    "        \n",
    "#         widget_obj._widgets[\"slider_value\"].value = np.random.randint(0,100)\n",
    "#         print(\"Updating Widget Python Obj to {}\".format(widget_obj._widgets[\"slider_value\"].value))\n",
    "#         print(\"UI changed?\")\n",
    "#         print(\"Param Obj changed? {}, {}\".format(myslider_param.slider_value, widget_obj.parameterized.slider_value))\n",
    "  \n",
    "    \n",
    "    # Call periodic func to change widget python obj\n",
    "    doc.add_periodic_callback(update_python_obj, 3000)\n",
    "\n",
    "\n"
   ]
  },
  {
   "cell_type": "code",
   "execution_count": null,
   "metadata": {},
   "outputs": [],
   "source": [
    "# start bokeh server and app\n",
    "app = show(modify_doc)\n"
   ]
  },
  {
   "cell_type": "code",
   "execution_count": null,
   "metadata": {},
   "outputs": [],
   "source": []
  },
  {
   "cell_type": "code",
   "execution_count": null,
   "metadata": {},
   "outputs": [],
   "source": []
  }
 ],
 "metadata": {
  "kernelspec": {
   "display_name": "Python 3",
   "language": "python",
   "name": "python3"
  },
  "language_info": {
   "codemirror_mode": {
    "name": "ipython",
    "version": 3
   },
   "file_extension": ".py",
   "mimetype": "text/x-python",
   "name": "python",
   "nbconvert_exporter": "python",
   "pygments_lexer": "ipython3",
   "version": "3.6.7"
  }
 },
 "nbformat": 4,
 "nbformat_minor": 2
}
