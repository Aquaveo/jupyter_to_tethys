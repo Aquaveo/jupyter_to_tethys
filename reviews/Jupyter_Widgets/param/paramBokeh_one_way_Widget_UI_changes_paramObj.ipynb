{
 "cells": [
  {
   "cell_type": "markdown",
   "metadata": {},
   "source": [
    "Widget UI ---> Param Obj; Widget Obj <-XX-> Param Obj; Widget UI <-XX-> Widget Obj;"
   ]
  },
  {
   "cell_type": "code",
   "execution_count": null,
   "metadata": {},
   "outputs": [],
   "source": [
    "import param\n",
    "import parambokeh\n",
    "from bokeh.io import output_notebook\n",
    "import numpy as np\n",
    "import pandas as pd\n",
    "\n",
    "output_notebook()"
   ]
  },
  {
   "cell_type": "code",
   "execution_count": null,
   "metadata": {},
   "outputs": [],
   "source": [
    "class BokehSine(param.Parameterized):\n",
    "    \n",
    "    # define param parameters\n",
    "    magnitude = param.Number(1, bounds=(-5, 5))\n",
    "    offset = param.Number(default=0.0, bounds=(-5.0,5.0))    \n",
    "    phase = param.Number(default=0.0,bounds=(0.0,2*np.pi))\n",
    "    frequency = param.Number(default=1.0, bounds=(0.1, 5.1))\n",
    "    N = param.Integer(default=200, bounds=(0,None))\n",
    "    "
   ]
  },
  {
   "cell_type": "code",
   "execution_count": null,
   "metadata": {},
   "outputs": [],
   "source": [
    "example = BokehSine(name='BokehSine')\n",
    "parambokeh.Widgets(example)\n"
   ]
  },
  {
   "cell_type": "code",
   "execution_count": null,
   "metadata": {},
   "outputs": [],
   "source": [
    "# Change UI N to 99, paramObj changed as well\n",
    "example.magnitude"
   ]
  },
  {
   "cell_type": "code",
   "execution_count": null,
   "metadata": {},
   "outputs": [],
   "source": [
    "# Change paramObj, UI does not change\n",
    "example.magnitude=-5"
   ]
  },
  {
   "cell_type": "code",
   "execution_count": null,
   "metadata": {},
   "outputs": [],
   "source": [
    "example2 = BokehSine(name='BokehSine2')\n",
    "widget_obj2 = parambokeh.Widgets.instance()\n",
    "print (type(widget_obj2))"
   ]
  },
  {
   "cell_type": "code",
   "execution_count": null,
   "metadata": {},
   "outputs": [],
   "source": [
    "widget_obj2(example2)"
   ]
  },
  {
   "cell_type": "code",
   "execution_count": null,
   "metadata": {},
   "outputs": [],
   "source": [
    "# change UI, check widget obj and param obj   (Widget UI ---> Param Obj) (Widget UI X---> Widget Obj)\n",
    "print (type(widget_obj2._widgets['magnitude']))98\n",
    "print (widget_obj2._widgets['magnitude'].value)\n",
    "print (widget_obj2.parameterized.magnitude)\n",
    "print (example2.magnitude)"
   ]
  },
  {
   "cell_type": "code",
   "execution_count": null,
   "metadata": {},
   "outputs": [],
   "source": [
    "# change Widget Obj, check UI and param obj   (Widget Obj X--> Param Obj) (Widget Obj X--> Widget UI)\n",
    "widget_obj2._widgets['magnitude'].value = -5\n",
    "print(widget_obj2._widgets['magnitude'].value)\n",
    "print (widget_obj2.parameterized.magnitude)\n",
    "print (example2.magnitude)"
   ]
  },
  {
   "cell_type": "code",
   "execution_count": null,
   "metadata": {},
   "outputs": [],
   "source": [
    "# change Param Obj, check UI and Widget obj (Param Obj X--> Widget Obj) (Param Obj X--> Widget UI)\n",
    "widget_obj2.parameterized.magnitude = -1\n",
    "print (example2.magnitude)\n",
    "print(widget_obj2._widgets['magnitude'].value)"
   ]
  },
  {
   "cell_type": "code",
   "execution_count": null,
   "metadata": {},
   "outputs": [],
   "source": []
  }
 ],
 "metadata": {
  "kernelspec": {
   "display_name": "Python 3",
   "language": "python",
   "name": "python3"
  },
  "language_info": {
   "codemirror_mode": {
    "name": "ipython",
    "version": 3
   },
   "file_extension": ".py",
   "mimetype": "text/x-python",
   "name": "python",
   "nbconvert_exporter": "python",
   "pygments_lexer": "ipython3",
   "version": "3.6.6"
  }
 },
 "nbformat": 4,
 "nbformat_minor": 2
}
