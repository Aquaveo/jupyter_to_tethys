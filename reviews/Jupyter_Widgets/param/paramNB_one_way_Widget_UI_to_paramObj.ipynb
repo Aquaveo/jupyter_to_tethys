{
 "cells": [
  {
   "cell_type": "markdown",
   "metadata": {},
   "source": [
    "Use ParamNB to create a Widget Obj from a Param Obj; \n",
    "Sync behavior: Widget UI <---> Widget Obj ---> Param Obj;"
   ]
  },
  {
   "cell_type": "code",
   "execution_count": 1,
   "metadata": {},
   "outputs": [],
   "source": [
    "import numpy as np\n",
    "import param \n",
    "import paramnb"
   ]
  },
  {
   "cell_type": "code",
   "execution_count": 2,
   "metadata": {},
   "outputs": [],
   "source": [
    "# Param Class\n",
    "class SineWave(param.Parameterized):\n",
    "    \n",
    "    offset = param.Number(default=0.0, bounds=(-5.0,5.0))\n",
    "    amplitude = param.Number(default=1.0, bounds=(-5.0,5.0))\n",
    "    phase = param.Number(default=0.0,bounds=(0.0,2*np.pi))\n",
    "    frequency = param.Number(default=1.0, bounds=(0.1, 5.1))\n",
    "    N = param.Integer(default=200, bounds=(0,None))\n"
   ]
  },
  {
   "cell_type": "code",
   "execution_count": 3,
   "metadata": {},
   "outputs": [],
   "source": [
    "# Param Obj\n",
    "mysine = SineWave()"
   ]
  },
  {
   "cell_type": "code",
   "execution_count": 4,
   "metadata": {},
   "outputs": [
    {
     "data": {
      "application/vnd.jupyter.widget-view+json": {
       "model_id": "33f97517ab50440c9a994dbcea1bc93e",
       "version_major": 2,
       "version_minor": 0
      },
      "text/plain": [
       "VBox(children=(HTML(value='\\n        <style>\\n          .widget-dropdown .dropdown-menu { width: 100% }\\n     …"
      ]
     },
     "metadata": {},
     "output_type": "display_data"
    }
   ],
   "source": [
    "# Create and display a ParamWidget from Param Obj\n",
    "# This way can't explicitly get a var references Widget Obj/Instance\n",
    "paramnb.Widgets(mysine)"
   ]
  },
  {
   "cell_type": "code",
   "execution_count": 5,
   "metadata": {},
   "outputs": [
    {
     "data": {
      "text/plain": [
       "SineWave(N=200, amplitude=1.0, frequency=1.0, name='SineWave00002', offset=0.0, phase=0.0)"
      ]
     },
     "execution_count": 5,
     "metadata": {},
     "output_type": "execute_result"
    }
   ],
   "source": [
    "# Change UI and check Param Obj (Widget UI ---> Param Obj)\n",
    "mysine"
   ]
  },
  {
   "cell_type": "code",
   "execution_count": 6,
   "metadata": {},
   "outputs": [],
   "source": [
    "# Change Param Obj and check UI (Param Obj X--> UI)\n",
    "mysine.N=99"
   ]
  },
  {
   "cell_type": "markdown",
   "metadata": {},
   "source": [
    "A special way to get a Widget Obj var explicitly to reveal Widget UI <---> Widget Obj ---> Param Obj"
   ]
  },
  {
   "cell_type": "code",
   "execution_count": 7,
   "metadata": {},
   "outputs": [],
   "source": [
    "# Create an empty paramnb Widget obj/instance\n",
    "widget_obj2 = paramnb.Widgets.instance()\n",
    "# Create a param Obj\n",
    "mysine2 = SineWave()"
   ]
  },
  {
   "cell_type": "code",
   "execution_count": 8,
   "metadata": {},
   "outputs": [
    {
     "data": {
      "application/vnd.jupyter.widget-view+json": {
       "model_id": "135a24d1e08946d998c80f85176874c9",
       "version_major": 2,
       "version_minor": 0
      },
      "text/plain": [
       "VBox(children=(HTML(value='\\n        <style>\\n          .widget-dropdown .dropdown-menu { width: 100% }\\n     …"
      ]
     },
     "metadata": {},
     "output_type": "display_data"
    }
   ],
   "source": [
    "def UI_callback(*args, **kwargs):    \n",
    "    print (\"UI changed\")\n",
    "    print (args, kwargs)\n",
    "    print (\"Widget Obj Value: {}\".format(widget_obj2._widgets[\"N\"].value))\n",
    "    print (\"Param Obj Value {}\".format(mysine2.N))\n",
    "    \n",
    "# Pass a param Obj to paramNB Widget Obj (paramNB Widget Obj is callable)\n",
    "widget_obj2(mysine2, callback=UI_callback)"
   ]
  },
  {
   "cell_type": "code",
   "execution_count": 9,
   "metadata": {},
   "outputs": [
    {
     "name": "stdout",
     "output_type": "stream",
     "text": [
      "<class 'ipywidgets.widgets.widget_int.IntText'>\n",
      "200\n",
      "200\n",
      "200\n"
     ]
    }
   ],
   "source": [
    "# change UI, check widget obj and param Obj (UI  <----> Widget Obj ----> ParamObj)\n",
    "print(type(widget_obj2._widgets[\"N\"]))\n",
    "print(widget_obj2._widgets[\"N\"].value)\n",
    "print(widget_obj2.parameterized.N)\n",
    "print(mysine2.N)  # same param obj as widget_obj2.parameterized"
   ]
  },
  {
   "cell_type": "code",
   "execution_count": 10,
   "metadata": {},
   "outputs": [
    {
     "name": "stdout",
     "output_type": "stream",
     "text": [
      "11\n",
      "200\n"
     ]
    }
   ],
   "source": [
    "# Change Param Obj, check Widget Obj and UI  (UI  <----> Widget Obj ----> ParamObj)\n",
    "widget_obj2.parameterized.N = 11\n",
    "print (mysine2.N) # same as above widget_obj2.parameterized\n",
    "print (widget_obj2._widgets[\"N\"].value)"
   ]
  },
  {
   "cell_type": "code",
   "execution_count": 12,
   "metadata": {},
   "outputs": [
    {
     "name": "stdout",
     "output_type": "stream",
     "text": [
      "UI changed\n",
      "(SineWave(N=3, amplitude=1.0, frequency=1.0, name='SineWave00005', offset=0.0, phase=0.0),) {'N': 3}\n",
      "Widget Obj Value: 3\n",
      "Param Obj Value 3\n",
      "3\n",
      "3\n"
     ]
    }
   ],
   "source": [
    "# Change Widget Obj, check UI and param Obj (UI  <----> Widget Obj ----> ParamObj)\n",
    "widget_obj2._widgets[\"N\"].value = 3\n",
    "print (mysine2.N)\n",
    "print(widget_obj2.parameterized.N)"
   ]
  },
  {
   "cell_type": "code",
   "execution_count": null,
   "metadata": {},
   "outputs": [],
   "source": []
  },
  {
   "cell_type": "code",
   "execution_count": null,
   "metadata": {},
   "outputs": [],
   "source": []
  }
 ],
 "metadata": {
  "kernelspec": {
   "display_name": "Python 3",
   "language": "python",
   "name": "python3"
  },
  "language_info": {
   "codemirror_mode": {
    "name": "ipython",
    "version": 3
   },
   "file_extension": ".py",
   "mimetype": "text/x-python",
   "name": "python",
   "nbconvert_exporter": "python",
   "pygments_lexer": "ipython3",
   "version": "3.6.6"
  }
 },
 "nbformat": 4,
 "nbformat_minor": 2
}
