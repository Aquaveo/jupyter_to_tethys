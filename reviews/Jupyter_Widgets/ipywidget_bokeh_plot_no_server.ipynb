{
 "cells": [
  {
   "cell_type": "markdown",
   "metadata": {},
   "source": [
    "### rewrite \"notebook_embed.ipynb\" using ipywidgets without a bokeh server\n",
    "\n",
    "Inspired by example: examples/howto/notebook_comms/Jupyter Interactors.ipynb\n",
    "This NB does not embed a bokeh server\n"
   ]
  },
  {
   "cell_type": "code",
   "execution_count": null,
   "metadata": {},
   "outputs": [],
   "source": [
    "from ipywidgets import interact\n",
    "\n",
    "from bokeh.models import ColumnDataSource\n",
    "from bokeh.io import push_notebook, show, output_notebook\n",
    "from bokeh.plotting import figure\n",
    "\n",
    "from bokeh.sampledata.sea_surface_temperature import sea_surface_temperature\n",
    "\n",
    "import yaml\n",
    "from bokeh.io.doc import curdoc\n",
    "from bokeh.themes import Theme"
   ]
  },
  {
   "cell_type": "code",
   "execution_count": null,
   "metadata": {},
   "outputs": [],
   "source": [
    "output_notebook()\n",
    "doc = curdoc()\n",
    "doc.theme = Theme(json=yaml.load(\"\"\"\n",
    "        attrs:\n",
    "            Figure:\n",
    "                background_fill_color: \"#DDDDDD\"\n",
    "                outline_line_color: white\n",
    "                toolbar_location: above\n",
    "                height: 500\n",
    "                width: 800\n",
    "            Grid:\n",
    "                grid_line_dash: [6, 4]\n",
    "                grid_line_color: white\n",
    "    \"\"\"))"
   ]
  },
  {
   "cell_type": "code",
   "execution_count": null,
   "metadata": {},
   "outputs": [],
   "source": [
    "df = sea_surface_temperature.copy()\n",
    "source = ColumnDataSource(data=df)\n",
    "\n",
    "plot = figure(x_axis_type='datetime', y_range=(0, 25),\n",
    "              y_axis_label='Temperature (Celsius)',\n",
    "              title=\"Sea Surface Temperature at 43.18, -70.43\")\n",
    "r = plot.line('time', 'temperature', source=source)\n",
    "my_handler = show(plot, notebook_handle=True)"
   ]
  },
  {
   "cell_type": "code",
   "execution_count": null,
   "metadata": {},
   "outputs": [],
   "source": [
    "def update(N=0):   \n",
    "    if N == 0:\n",
    "        data = df\n",
    "    else:\n",
    "        data = df.rolling('{0}D'.format(N)).mean()\n",
    "    source.data = ColumnDataSource(data=data).data\n",
    "    push_notebook(handle=my_handler)"
   ]
  },
  {
   "cell_type": "code",
   "execution_count": null,
   "metadata": {},
   "outputs": [],
   "source": [
    "interact(update, N=(0,7))"
   ]
  }
 ],
 "metadata": {
  "kernelspec": {
   "display_name": "Python 3",
   "language": "python",
   "name": "python3"
  },
  "language_info": {
   "codemirror_mode": {
    "name": "ipython",
    "version": 3
   },
   "file_extension": ".py",
   "mimetype": "text/x-python",
   "name": "python",
   "nbconvert_exporter": "python",
   "pygments_lexer": "ipython3",
   "version": "3.6.6"
  }
 },
 "nbformat": 4,
 "nbformat_minor": 2
}
