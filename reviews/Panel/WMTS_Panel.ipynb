{
 "cells": [
  {
   "cell_type": "markdown",
   "metadata": {},
   "source": [
    "This notebook demonstrates how to use Quest to download imagery from a Web Map Tile Service (WMTS).\n",
    "\n",
    "In addition to quest the following packages need to be installed to use this notebook:\n",
    " * holoviews\n",
    " * geoviews\n",
    " * param\n",
    " * paramnb\n",
    " * xarray\n",
    " \n",
    "The can be installed with the following command:\n",
    "```\n",
    "conda install -c conda-forge -c pyviz/label/dev holoviews geoviews param paramnb xarray\n",
    "```"
   ]
  },
  {
   "cell_type": "code",
   "execution_count": 1,
   "metadata": {},
   "outputs": [
    {
     "ename": "ModuleNotFoundError",
     "evalue": "No module named 'quest'",
     "output_type": "error",
     "traceback": [
      "\u001b[0;31m---------------------------------------------------------------------------\u001b[0m",
      "\u001b[0;31mModuleNotFoundError\u001b[0m                       Traceback (most recent call last)",
      "\u001b[0;32m<ipython-input-1-bdb170930589>\u001b[0m in \u001b[0;36m<module>\u001b[0;34m()\u001b[0m\n\u001b[0;32m----> 1\u001b[0;31m \u001b[0;32mimport\u001b[0m \u001b[0mquest\u001b[0m\u001b[0;34m\u001b[0m\u001b[0m\n\u001b[0m\u001b[1;32m      2\u001b[0m \u001b[0;32mimport\u001b[0m \u001b[0mgeoviews\u001b[0m \u001b[0;32mas\u001b[0m \u001b[0mgv\u001b[0m\u001b[0;34m\u001b[0m\u001b[0m\n\u001b[1;32m      3\u001b[0m \u001b[0;32mimport\u001b[0m \u001b[0mholoviews\u001b[0m \u001b[0;32mas\u001b[0m \u001b[0mhv\u001b[0m\u001b[0;34m\u001b[0m\u001b[0m\n\u001b[1;32m      4\u001b[0m \u001b[0;32mimport\u001b[0m \u001b[0mpanel\u001b[0m \u001b[0;32mas\u001b[0m \u001b[0mpp\u001b[0m\u001b[0;34m\u001b[0m\u001b[0m\n\u001b[1;32m      5\u001b[0m \u001b[0;34m\u001b[0m\u001b[0m\n",
      "\u001b[0;31mModuleNotFoundError\u001b[0m: No module named 'quest'"
     ]
    }
   ],
   "source": [
    "import quest\n",
    "import geoviews as gv\n",
    "import holoviews as hv\n",
    "import panel as pp\n",
    "\n",
    "hv.extension('bokeh')\n",
    "\n",
    "quest_service = 'svc://wmts:seamless_imagery'\n",
    "tile_service_options = quest.api.get_download_options(quest_service, fmt='param')[quest_service]\n",
    "\n",
    "boxes = gv.Polygons([]).options(fill_alpha=0.4, line_width=2)\n",
    "box_stream = hv.streams.BoxEdit(source=boxes, num_objects=1)\n",
    "\n",
    "def change_basemap(**kw):\n",
    "    # kw:  dict contains Param variable {var_name:var_value} pairs from all Param objs defined in streams=[]\n",
    "    \n",
    "    print (\"change_basemap: \" + str(kw))\n",
    "    url = kw['url'] # get latest basemap url (dropdown value)\n",
    "    tiles = gv.WMTS(url).options(global_extent=True, height=400, width=700)    \n",
    "    return tiles * boxes\n",
    "\n",
    "# link param objs with dyncamic map, any change to param obj will trigger callback\n",
    "dmp = hv.DynamicMap(change_basemap, streams=[tile_service_options, box_stream])\n",
    "\n",
    "\n",
    "def update_subset(**kw):   \n",
    "    print (\"update_subset: \" + str(kw))\n",
    "    \n",
    "    if box_stream.element:\n",
    "        data = box_stream.data\n",
    "        bbox = [data['x0'][0], data['y0'][0], data['x1'][0], data['y1'][0]]\n",
    "    else:\n",
    "        bbox = [-72.43925984610391, 45.8471360126193, -68.81252476472281, 47.856449699679516]\n",
    "        \n",
    "    # This will trigger change_basemap() as this param obj is being changed\n",
    "    tile_service_options.bbox = bbox\n",
    "    arr = quest.api.get_data(\n",
    "                    service_uri=quest_service,\n",
    "                    search_filters=None,\n",
    "                    download_options=tile_service_options,\n",
    "                    collection_name='examples',\n",
    "                    use_cache=False,\n",
    "                    as_open_datasets=True,)[0]\n",
    "    \n",
    "    image = gv.RGB((arr.x, arr.y, arr[0].values, \n",
    "        arr[1].values, arr[2].values), \n",
    "       vdims=['R', 'G', 'B']).options(width=700, height=400, alpha=0.7)\n",
    "    return gv.tile_sources.Wikipedia * image\n",
    "\n",
    "# panel's Button has Param variable\n",
    "# https://github.com/pyviz/panel/blob/58826d04396c2611131cda9462c85b0a5f369ef7/panel/widgets.py#L212\n",
    "button = pp.widgets.Button(name='Subset', button_type='danger')\n",
    "dmp_subset = hv.DynamicMap(update_subset, streams=[button]) \n",
    "\n",
    "# http://pyviz.org/tutorial/13_Deploying_Bokeh_Apps.html\n",
    "# https://github.com/pyviz/panel/blob/58826d04396c2611131cda9462c85b0a5f369ef7/panel/viewable.py#L94\n",
    "panel_viewable = pp.Column(tile_service_options, dmp, button, dmp_subset)\n",
    "\n",
    "panel_viewable"
   ]
  },
  {
   "cell_type": "code",
   "execution_count": null,
   "metadata": {},
   "outputs": [],
   "source": []
  }
 ],
 "metadata": {
  "kernelspec": {
   "display_name": "Python 3",
   "language": "python",
   "name": "python3"
  },
  "language_info": {
   "codemirror_mode": {
    "name": "ipython",
    "version": 3
   },
   "file_extension": ".py",
   "mimetype": "text/x-python",
   "name": "python",
   "nbconvert_exporter": "python",
   "pygments_lexer": "ipython3",
   "version": "3.6.6"
  }
 },
 "nbformat": 4,
 "nbformat_minor": 2
}
